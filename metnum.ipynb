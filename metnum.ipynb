{
  "cells": [
    {
      "cell_type": "markdown",
      "metadata": {
        "id": "view-in-github",
        "colab_type": "text"
      },
      "source": [
        "<a href=\"https://colab.research.google.com/github/KhoiriTahmid/tugas-statistika/blob/codespace-khoiritahmid-cautious-memory-6xvvpp4xp55c4g4v/metnum.ipynb\" target=\"_parent\"><img src=\"https://colab.research.google.com/assets/colab-badge.svg\" alt=\"Open In Colab\"/></a>"
      ]
    },
    {
      "cell_type": "markdown",
      "source": [
        "**Prediksi inflasi 2021**"
      ],
      "metadata": {
        "id": "K7g37YzITuSm"
      }
    },
    {
      "cell_type": "code",
      "source": [
        "from sklearn.linear_model import LinearRegression\n",
        "import numpy as np\n",
        "\n",
        "tahun = np.array([2010, 2011, 2012, 2013, 2014, 2015, 2016, 2017, 2018, 2019, 2020]).reshape(-1, 1)\n",
        "inflasi = np.array([6.96, 3.79, 4.32, 8.38, 8.36, 3.35, 3.02, 3.61, 3.13, 2.72, 1.68])\n",
        "\n",
        "# Transformasi logaritmik pada variabel inflasi\n",
        "log_inflasi = np.log(inflasi)\n",
        "\n",
        "# Membuat model regresi linier pada skala log\n",
        "regresi_log = LinearRegression()\n",
        "regresi_log.fit(tahun, log_inflasi)\n",
        "\n",
        "# Prediksi inflasi pada tahun 2022\n",
        "tahun_prediksi_2021 = np.array([[2021]])\n",
        "prediksi_log_2021 = regresi_log.predict(tahun_prediksi_2021)\n",
        "\n",
        "# Konversi prediksi logaritmik kembali ke skala asli eksponensial\n",
        "prediksi_eksponensial_2021 = np.exp(prediksi_log_2021)\n",
        "print(\"Prediksi inflasi tahun 2021 (Regresi Eksponensial):\", prediksi_eksponensial_2021[0])\n"
      ],
      "metadata": {
        "id": "VQptzr2QTy-V",
        "outputId": "7fa52f4b-f821-411e-a212-af9c7d5e22e7",
        "colab": {
          "base_uri": "https://localhost:8080/"
        }
      },
      "execution_count": 12,
      "outputs": [
        {
          "output_type": "stream",
          "name": "stdout",
          "text": [
            "Prediksi inflasi tahun 2021 (Regresi Eksponensial): 2.065985794928883\n"
          ]
        }
      ]
    },
    {
      "cell_type": "markdown",
      "source": [
        "**Prediksi inflasi 2022**"
      ],
      "metadata": {
        "id": "UNsm94gETOVh"
      }
    },
    {
      "cell_type": "code",
      "source": [
        "from sklearn.linear_model import LinearRegression\n",
        "import numpy as np\n",
        "\n",
        "tahun = np.array([2010, 2011, 2012, 2013, 2014, 2015, 2016, 2017, 2018, 2019, 2020, 2021]).reshape(-1, 1)\n",
        "inflasi = np.array([6.96, 3.79, 4.32, 8.38, 8.36, 3.35, 3.02, 3.61, 3.13, 2.72, 1.68, 1.87])\n",
        "\n",
        "# Transformasi logaritmik pada variabel inflasi\n",
        "log_inflasi = np.log(inflasi)\n",
        "\n",
        "# Membuat model regresi linier pada skala log\n",
        "regresi_log = LinearRegression()\n",
        "regresi_log.fit(tahun, log_inflasi)\n",
        "\n",
        "# Prediksi inflasi pada tahun 2022\n",
        "tahun_prediksi = np.array([[2022]])\n",
        "prediksi_log = regresi_log.predict(tahun_prediksi)\n",
        "\n",
        "# Konversi prediksi logaritmik kembali ke skala asli eksponensial\n",
        "prediksi_eksponensial = np.exp(prediksi_log)\n",
        "print(\"Prediksi inflasi tahun 2022 (Regresi Eksponensial):\", prediksi_eksponensial[0])\n"
      ],
      "metadata": {
        "id": "QlFlk-hGTN2b",
        "outputId": "7472c80e-d42c-4c5c-ec55-6ee0633c5ded",
        "colab": {
          "base_uri": "https://localhost:8080/"
        }
      },
      "execution_count": 7,
      "outputs": [
        {
          "output_type": "stream",
          "name": "stdout",
          "text": [
            "Prediksi inflasi tahun 2022 (Regresi Eksponensial): 1.790253219661702\n"
          ]
        }
      ]
    },
    {
      "cell_type": "markdown",
      "source": [
        "**Prediksi inflasi 2023**"
      ],
      "metadata": {
        "id": "uR3LOYAQS6yf"
      }
    },
    {
      "cell_type": "code",
      "source": [
        "from sklearn.linear_model import LinearRegression\n",
        "import numpy as np\n",
        "\n",
        "tahun = np.array([2010, 2011, 2012, 2013, 2014, 2015, 2016, 2017, 2018, 2019, 2020, 2021, 2022]).reshape(-1, 1)\n",
        "inflasi = np.array([6.96, 3.79, 4.32, 8.38, 8.36, 3.35, 3.02, 3.61, 3.13, 2.72, 1.68, 1.87, 5.51])\n",
        "\n",
        "# Transformasi logaritmik pada variabel inflasi\n",
        "log_inflasi = np.log(inflasi)\n",
        "\n",
        "# Membuat model regresi linier pada skala log\n",
        "regresi_log = LinearRegression()\n",
        "regresi_log.fit(tahun, log_inflasi)\n",
        "\n",
        "# Prediksi inflasi pada tahun 2023\n",
        "tahun_prediksi = np.array([[2023]])\n",
        "prediksi_log = regresi_log.predict(tahun_prediksi)\n",
        "\n",
        "# Konversi prediksi logaritmik kembali ke skala asli eksponensial\n",
        "prediksi_eksponensial = np.exp(prediksi_log)\n",
        "print(\"Prediksi inflasi tahun 2023 (Regresi Eksponensial):\", prediksi_eksponensial[0])\n"
      ],
      "metadata": {
        "id": "LIMsZRm7RN1K",
        "outputId": "4ee09297-dd01-4151-9c85-4d31f52914e5",
        "colab": {
          "base_uri": "https://localhost:8080/"
        }
      },
      "execution_count": 4,
      "outputs": [
        {
          "output_type": "stream",
          "name": "stdout",
          "text": [
            "Prediksi inflasi tahun 2023 (Regresi Eksponensial): 2.257834713908398\n"
          ]
        }
      ]
    },
    {
      "cell_type": "markdown",
      "source": [
        "**Prediksi inflasi 2024**"
      ],
      "metadata": {
        "id": "Di3JBOF_VYrS"
      }
    },
    {
      "cell_type": "code",
      "source": [
        "from sklearn.linear_model import LinearRegression\n",
        "import numpy as np\n",
        "\n",
        "tahun = np.array([2010, 2011, 2012, 2013, 2014, 2015, 2016, 2017, 2018, 2019, 2020, 2021, 2022, 2023]).reshape(-1, 1)\n",
        "inflasi = np.array([6.96, 3.79, 4.32, 8.38, 8.36, 3.35, 3.02, 3.61, 3.13, 2.72, 1.68, 1.87, 5.51, 2.61])\n",
        "\n",
        "# Transformasi logaritmik pada variabel inflasi\n",
        "log_inflasi = np.log(inflasi)\n",
        "\n",
        "# Membuat model regresi linier pada skala log\n",
        "regresi_log = LinearRegression()\n",
        "regresi_log.fit(tahun, log_inflasi)\n",
        "\n",
        "# Prediksi inflasi pada tahun 2023\n",
        "tahun_prediksi = np.array([[2024]])\n",
        "prediksi_log = regresi_log.predict(tahun_prediksi)\n",
        "\n",
        "# Konversi prediksi logaritmik kembali ke skala asli eksponensial\n",
        "prediksi_eksponensial = np.exp(prediksi_log)\n",
        "print(\"Prediksi inflasi tahun 2024 (Regresi Eksponensial):\", prediksi_eksponensial[0])"
      ],
      "metadata": {
        "id": "U82lx-OxTMGK",
        "outputId": "09d3ac7d-1a40-465d-9546-e754b29a926b",
        "colab": {
          "base_uri": "https://localhost:8080/"
        }
      },
      "execution_count": 13,
      "outputs": [
        {
          "output_type": "stream",
          "name": "stdout",
          "text": [
            "Prediksi inflasi tahun 2024 (Regresi Eksponensial): 2.179334998958536\n"
          ]
        }
      ]
    }
  ],
  "metadata": {
    "colab": {
      "name": "Selamat Datang di Colaboratory",
      "toc_visible": true,
      "provenance": [],
      "include_colab_link": true
    },
    "kernelspec": {
      "display_name": "Python 3",
      "name": "python3"
    }
  },
  "nbformat": 4,
  "nbformat_minor": 0
}